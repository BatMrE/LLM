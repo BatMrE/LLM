{
 "cells": [
  {
   "cell_type": "code",
   "execution_count": 1,
   "id": "58ce4d7f-ac04-4b83-8a9c-ecf33207495d",
   "metadata": {},
   "outputs": [],
   "source": [
    "from openai import OpenAI"
   ]
  },
  {
   "cell_type": "code",
   "execution_count": 2,
   "id": "356443d4-d099-483c-99a1-ee3065dbb960",
   "metadata": {},
   "outputs": [],
   "source": [
    "base_url = 'http://llama:8000/v1'"
   ]
  },
  {
   "cell_type": "code",
   "execution_count": 3,
   "id": "4351b093-eaa9-4d59-9707-e8e5f248aa2b",
   "metadata": {},
   "outputs": [],
   "source": [
    "api_key = 'an_arbitrary_string'"
   ]
  },
  {
   "cell_type": "code",
   "execution_count": 4,
   "id": "d579c37e-171d-4e0f-ac39-eb432b1ae40d",
   "metadata": {},
   "outputs": [],
   "source": [
    "client = OpenAI(base_url=base_url, api_key=api_key)"
   ]
  },
  {
   "cell_type": "code",
   "execution_count": 5,
   "id": "709d267b-3ccd-46b2-b568-9bccb929f241",
   "metadata": {},
   "outputs": [],
   "source": [
    "available_models = client.models.list()"
   ]
  },
  {
   "cell_type": "code",
   "execution_count": 6,
   "id": "fdddba34-b17c-4b36-acad-f55550c6f9c3",
   "metadata": {},
   "outputs": [
    {
     "data": {
      "text/plain": [
       "SyncPage[Model](data=[Model(id='meta/llama-3.1-8b-instruct', created=1750723008, object='model', owned_by='system', root='meta/llama-3.1-8b-instruct', parent=None, max_model_len=131072, permission=[{'id': 'modelperm-e44411cdf884412499b303241b9d4e89', 'object': 'model_permission', 'created': 1750723008, 'allow_create_engine': False, 'allow_sampling': True, 'allow_logprobs': True, 'allow_search_indices': False, 'allow_view': True, 'allow_fine_tuning': False, 'organization': '*', 'group': None, 'is_blocking': False}])], object='list')"
      ]
     },
     "execution_count": 6,
     "metadata": {},
     "output_type": "execute_result"
    }
   ],
   "source": [
    "available_models"
   ]
  },
  {
   "cell_type": "code",
   "execution_count": 7,
   "id": "ad3d0754-4910-4675-9bd0-911d60437edc",
   "metadata": {},
   "outputs": [
    {
     "data": {
      "text/plain": [
       "'meta/llama-3.1-8b-instruct'"
      ]
     },
     "execution_count": 7,
     "metadata": {},
     "output_type": "execute_result"
    }
   ],
   "source": [
    "available_models.data[0].id"
   ]
  },
  {
   "cell_type": "code",
   "execution_count": 8,
   "id": "f6752feb-98c2-498c-baf8-cb4c63a63592",
   "metadata": {},
   "outputs": [],
   "source": [
    "model = 'meta/llama-3.1-8b-instruct'\n",
    "prompt = 'Tell me a short fun fact about space.'"
   ]
  },
  {
   "cell_type": "code",
   "execution_count": 9,
   "id": "d97921e5-8d64-4e65-afc6-c3a42a68269b",
   "metadata": {},
   "outputs": [],
   "source": [
    "response = client.chat.completions.create(\n",
    "    model=model,\n",
    "    messages=[{'role': 'user', 'content': prompt}]\n",
    ")"
   ]
  },
  {
   "cell_type": "code",
   "execution_count": 10,
   "id": "deb7a3fb-5198-4feb-9d26-59208ed5ba5e",
   "metadata": {},
   "outputs": [
    {
     "name": "stdout",
     "output_type": "stream",
     "text": [
      "ChatCompletion(id='chat-a78bf0a44f564876bcba74f3b669f974', choices=[Choice(finish_reason='stop', index=0, logprobs=None, message=ChatCompletionMessage(content='Here\\'s a fun fact about space:\\n\\n**The Universe is still growing (and it\\'s speeding away from us!)**\\n\\nThe universe is expanding at a rate of about 1 meter per second, per megaparsec. To put that in perspective, that\\'s like blowing up a balloon that\\'s 1 meter wide every million light-years away. In fact, the most distant galaxies we can see are already moving away from us at speeds of over 90% of the speed of light! This expansion is often referred to as the \"Hubble flow,\" named after the astronomer Edwin Hubble, who first observed it in the 1920s. Whoa!', refusal=None, role='assistant', function_call=None, tool_calls=None), stop_reason=None)], created=1750723042, model='meta/llama-3.1-8b-instruct', object='chat.completion', service_tier=None, system_fingerprint=None, usage=CompletionUsage(completion_tokens=136, prompt_tokens=21, total_tokens=157, completion_tokens_details=None, prompt_tokens_details=None))\n"
     ]
    }
   ],
   "source": [
    "print(response)"
   ]
  },
  {
   "cell_type": "code",
   "execution_count": 11,
   "id": "b6bc62dd-5cb8-4a93-affb-cee944f217e1",
   "metadata": {},
   "outputs": [],
   "source": [
    "model_response = response.choices[0].message.content"
   ]
  },
  {
   "cell_type": "code",
   "execution_count": 12,
   "id": "f786cd03-8bc2-43a3-9c80-ce5c683ba0fa",
   "metadata": {},
   "outputs": [
    {
     "name": "stdout",
     "output_type": "stream",
     "text": [
      "Here's a fun fact about space:\n",
      "\n",
      "**The Universe is still growing (and it's speeding away from us!)**\n",
      "\n",
      "The universe is expanding at a rate of about 1 meter per second, per megaparsec. To put that in perspective, that's like blowing up a balloon that's 1 meter wide every million light-years away. In fact, the most distant galaxies we can see are already moving away from us at speeds of over 90% of the speed of light! This expansion is often referred to as the \"Hubble flow,\" named after the astronomer Edwin Hubble, who first observed it in the 1920s. Whoa!\n"
     ]
    }
   ],
   "source": [
    "print(model_response)"
   ]
  }
 ],
 "metadata": {
  "kernelspec": {
   "display_name": "Python 3 (ipykernel)",
   "language": "python",
   "name": "python3"
  },
  "language_info": {
   "codemirror_mode": {
    "name": "ipython",
    "version": 3
   },
   "file_extension": ".py",
   "mimetype": "text/x-python",
   "name": "python",
   "nbconvert_exporter": "python",
   "pygments_lexer": "ipython3",
   "version": "3.12.1"
  }
 },
 "nbformat": 4,
 "nbformat_minor": 5
}
